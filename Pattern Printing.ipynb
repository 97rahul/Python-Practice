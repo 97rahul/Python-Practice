{
 "cells": [
  {
   "cell_type": "markdown",
   "id": "85e51d3a",
   "metadata": {},
   "source": [
    "# PATTERN PRINTING"
   ]
  },
  {
   "cell_type": "code",
   "execution_count": 1,
   "id": "72375ba5",
   "metadata": {},
   "outputs": [],
   "source": [
    "def pattern1(n):\n",
    "    i=1\n",
    "    while(i<=n):\n",
    "        j = 1\n",
    "        while(j<=n):\n",
    "            print(\"*\",end = \"\")\n",
    "            j = j+1\n",
    "        print()\n",
    "        i = i + 1"
   ]
  },
  {
   "cell_type": "code",
   "execution_count": 2,
   "id": "959c008c",
   "metadata": {},
   "outputs": [
    {
     "name": "stdout",
     "output_type": "stream",
     "text": [
      "*****\n",
      "*****\n",
      "*****\n",
      "*****\n",
      "*****\n"
     ]
    }
   ],
   "source": [
    "pattern1(5)"
   ]
  },
  {
   "cell_type": "code",
   "execution_count": 3,
   "id": "c93ed53d",
   "metadata": {},
   "outputs": [],
   "source": [
    "def pattern2(n):\n",
    "    i=1\n",
    "    while(i<=n):\n",
    "        j = 1\n",
    "        while(j<=n):\n",
    "            print(i,end = \"\")\n",
    "            j = j+1\n",
    "        print()\n",
    "        i = i + 1"
   ]
  },
  {
   "cell_type": "code",
   "execution_count": 4,
   "id": "bc615639",
   "metadata": {},
   "outputs": [
    {
     "name": "stdout",
     "output_type": "stream",
     "text": [
      "1111\n",
      "2222\n",
      "3333\n",
      "4444\n"
     ]
    }
   ],
   "source": [
    "pattern2(4)"
   ]
  },
  {
   "cell_type": "code",
   "execution_count": 5,
   "id": "9a506d0d",
   "metadata": {},
   "outputs": [],
   "source": [
    "def pattern3(n):\n",
    "    i = 1\n",
    "    while(i<=n):\n",
    "        j=1\n",
    "        while(j<=n):\n",
    "            print(j,end = \"\")\n",
    "            j = j+1\n",
    "        print()\n",
    "        i=i+1"
   ]
  },
  {
   "cell_type": "code",
   "execution_count": 6,
   "id": "86fae25a",
   "metadata": {},
   "outputs": [
    {
     "name": "stdout",
     "output_type": "stream",
     "text": [
      "1234\n",
      "1234\n",
      "1234\n",
      "1234\n"
     ]
    }
   ],
   "source": [
    "pattern3(4)"
   ]
  },
  {
   "cell_type": "code",
   "execution_count": 7,
   "id": "b87beab8",
   "metadata": {},
   "outputs": [],
   "source": [
    "def pattern4(n):\n",
    "    i = 1\n",
    "    while(i<=n):\n",
    "        j=1\n",
    "        while(j<=n):\n",
    "            print(n-j+1,end = \"\")\n",
    "            j = j+1\n",
    "        print()\n",
    "        i=i+1"
   ]
  },
  {
   "cell_type": "code",
   "execution_count": 8,
   "id": "6d30e54a",
   "metadata": {},
   "outputs": [
    {
     "name": "stdout",
     "output_type": "stream",
     "text": [
      "4321\n",
      "4321\n",
      "4321\n",
      "4321\n"
     ]
    }
   ],
   "source": [
    "pattern4(4)"
   ]
  },
  {
   "cell_type": "code",
   "execution_count": 14,
   "id": "957fcc0b",
   "metadata": {},
   "outputs": [],
   "source": [
    "def pattern5(n):\n",
    "    i = 1\n",
    "    num = 1\n",
    "    while(i<=n):\n",
    "        j=1\n",
    "        \n",
    "        while(j<=n):\n",
    "            print(num,end = \" \")\n",
    "            j = j+1\n",
    "            num = num +1\n",
    "        print()\n",
    "        i=i+1"
   ]
  },
  {
   "cell_type": "code",
   "execution_count": 16,
   "id": "c18a7262",
   "metadata": {},
   "outputs": [
    {
     "name": "stdout",
     "output_type": "stream",
     "text": [
      "1 2 3 4 5 \n",
      "6 7 8 9 10 \n",
      "11 12 13 14 15 \n",
      "16 17 18 19 20 \n",
      "21 22 23 24 25 \n"
     ]
    }
   ],
   "source": [
    "pattern5(5)"
   ]
  },
  {
   "cell_type": "code",
   "execution_count": 17,
   "id": "95241570",
   "metadata": {},
   "outputs": [],
   "source": [
    "def pattern6(n):\n",
    "    i = 1\n",
    "    while(i<=n):\n",
    "        j=1\n",
    "        \n",
    "        while(j<=i):\n",
    "            print(\"*\",end = \" \")\n",
    "            j = j+1\n",
    "        print()\n",
    "        i=i+1"
   ]
  },
  {
   "cell_type": "code",
   "execution_count": 19,
   "id": "6f7c9b6d",
   "metadata": {},
   "outputs": [
    {
     "name": "stdout",
     "output_type": "stream",
     "text": [
      "* \n",
      "* * \n",
      "* * * \n",
      "* * * * \n",
      "* * * * * \n"
     ]
    }
   ],
   "source": [
    "pattern6(5)"
   ]
  },
  {
   "cell_type": "code",
   "execution_count": 20,
   "id": "b248ce6b",
   "metadata": {},
   "outputs": [],
   "source": [
    "def pattern7(n):\n",
    "    i = 1\n",
    "    while(i<=n):\n",
    "        j=1\n",
    "        \n",
    "        while(j<=i):\n",
    "            print(i,end = \" \")\n",
    "            j = j+1\n",
    "        print()\n",
    "        i=i+1"
   ]
  },
  {
   "cell_type": "code",
   "execution_count": 21,
   "id": "6274ec3f",
   "metadata": {},
   "outputs": [
    {
     "name": "stdout",
     "output_type": "stream",
     "text": [
      "1 \n",
      "2 2 \n",
      "3 3 3 \n",
      "4 4 4 4 \n",
      "5 5 5 5 5 \n"
     ]
    }
   ],
   "source": [
    "pattern7(5)"
   ]
  },
  {
   "cell_type": "code",
   "execution_count": 22,
   "id": "3c1482f0",
   "metadata": {},
   "outputs": [],
   "source": [
    "def pattern8(n):\n",
    "    i = 1\n",
    "    num = 1\n",
    "    while(i<=n):\n",
    "        j=1\n",
    "        \n",
    "        while(j<=i):\n",
    "            print(num,end = \" \")\n",
    "            j = j+1\n",
    "            num = num +1\n",
    "        print()\n",
    "        i=i+1"
   ]
  },
  {
   "cell_type": "code",
   "execution_count": 23,
   "id": "0c98d8f6",
   "metadata": {},
   "outputs": [
    {
     "name": "stdout",
     "output_type": "stream",
     "text": [
      "1 \n",
      "2 3 \n",
      "4 5 6 \n",
      "7 8 9 10 \n",
      "11 12 13 14 15 \n"
     ]
    }
   ],
   "source": [
    "pattern8(5)"
   ]
  },
  {
   "cell_type": "code",
   "execution_count": 24,
   "id": "7b3b434e",
   "metadata": {},
   "outputs": [],
   "source": [
    "def pattern9(n):\n",
    "    i = 1\n",
    "    while(i<=n):\n",
    "        j=1\n",
    "        num = i\n",
    "        while(j<=i):\n",
    "            print(num,end = \" \")\n",
    "            j = j+1\n",
    "            num = num +1\n",
    "        print()\n",
    "        i=i+1"
   ]
  },
  {
   "cell_type": "code",
   "execution_count": 26,
   "id": "3c1a0664",
   "metadata": {},
   "outputs": [
    {
     "name": "stdout",
     "output_type": "stream",
     "text": [
      "1 \n",
      "2 3 \n",
      "3 4 5 \n",
      "4 5 6 7 \n",
      "5 6 7 8 9 \n"
     ]
    }
   ],
   "source": [
    "pattern9(5)"
   ]
  },
  {
   "cell_type": "code",
   "execution_count": 38,
   "id": "03ac06a0",
   "metadata": {},
   "outputs": [],
   "source": [
    "def pattern10(n):\n",
    "    i = 1\n",
    "    while(i<=n):\n",
    "        j=1\n",
    "        \n",
    "        while(j<=i):\n",
    "            print(i-j+1,end = \" \")\n",
    "            j = j+1\n",
    "        print()\n",
    "        i=i+1"
   ]
  },
  {
   "cell_type": "code",
   "execution_count": 39,
   "id": "1eb1b5b5",
   "metadata": {},
   "outputs": [
    {
     "name": "stdout",
     "output_type": "stream",
     "text": [
      "1 \n",
      "2 1 \n",
      "3 2 1 \n",
      "4 3 2 1 \n",
      "5 4 3 2 1 \n"
     ]
    }
   ],
   "source": [
    "pattern10(5)"
   ]
  },
  {
   "cell_type": "code",
   "execution_count": 60,
   "id": "a885da57",
   "metadata": {},
   "outputs": [],
   "source": [
    "def pattern11(n):\n",
    "    i = 1\n",
    "    c = 65\n",
    "    while(i<=n):\n",
    "        j=1\n",
    "        \n",
    "        while(j<=n):\n",
    "            \n",
    "            print(chr(c),end = \" \")\n",
    "            j = j+1\n",
    "        print()\n",
    "        i=i+1\n",
    "        c+=1\n",
    "       "
   ]
  },
  {
   "cell_type": "code",
   "execution_count": 61,
   "id": "691779cd",
   "metadata": {},
   "outputs": [
    {
     "name": "stdout",
     "output_type": "stream",
     "text": [
      "A A A A \n",
      "B B B B \n",
      "C C C C \n",
      "D D D D \n"
     ]
    }
   ],
   "source": [
    "pattern11(4)"
   ]
  },
  {
   "cell_type": "code",
   "execution_count": 62,
   "id": "837b9592",
   "metadata": {},
   "outputs": [],
   "source": [
    "def pattern12(n):\n",
    "    i = 1\n",
    "    c = 65\n",
    "    while(i<=n):\n",
    "        j=1\n",
    "        c = 65\n",
    "        while(j<=n):\n",
    "            \n",
    "            print(chr(c),end = \" \")\n",
    "            j = j+1\n",
    "            c+=1\n",
    "        print()\n",
    "        i=i+1\n",
    "        \n",
    "       "
   ]
  },
  {
   "cell_type": "code",
   "execution_count": 63,
   "id": "df923193",
   "metadata": {},
   "outputs": [
    {
     "name": "stdout",
     "output_type": "stream",
     "text": [
      "A B C D E \n",
      "A B C D E \n",
      "A B C D E \n",
      "A B C D E \n",
      "A B C D E \n"
     ]
    }
   ],
   "source": [
    "pattern12(5)"
   ]
  },
  {
   "cell_type": "code",
   "execution_count": 68,
   "id": "03eea443",
   "metadata": {},
   "outputs": [],
   "source": [
    "def pattern13(n):\n",
    "    i = 1\n",
    "    c = 65\n",
    "    while(i<=n):\n",
    "        j=1\n",
    "        \n",
    "        while(j<=n):\n",
    "            \n",
    "            print(chr(c),end = \" \")\n",
    "            j = j+1\n",
    "            c+=1\n",
    "        print()\n",
    "        i=i+1"
   ]
  },
  {
   "cell_type": "code",
   "execution_count": 69,
   "id": "8aafe22f",
   "metadata": {},
   "outputs": [
    {
     "name": "stdout",
     "output_type": "stream",
     "text": [
      "A B C \n",
      "D E F \n",
      "G H I \n"
     ]
    }
   ],
   "source": [
    "pattern13(3)"
   ]
  },
  {
   "cell_type": "code",
   "execution_count": 71,
   "id": "63d59065",
   "metadata": {},
   "outputs": [],
   "source": [
    "def pattern14(n):\n",
    "    i = 1\n",
    "\n",
    "    while(i<=n):\n",
    "        j=1\n",
    "        c = 64 + i\n",
    "        while(j<=n):\n",
    "            \n",
    "            print(chr(c),end = \" \")\n",
    "            j = j+1\n",
    "            c+=1\n",
    "        print()\n",
    "        i=i+1"
   ]
  },
  {
   "cell_type": "code",
   "execution_count": 72,
   "id": "4ad26788",
   "metadata": {},
   "outputs": [
    {
     "name": "stdout",
     "output_type": "stream",
     "text": [
      "A B C \n",
      "B C D \n",
      "C D E \n"
     ]
    }
   ],
   "source": [
    "pattern14(3)"
   ]
  },
  {
   "cell_type": "code",
   "execution_count": 73,
   "id": "24b28d47",
   "metadata": {},
   "outputs": [],
   "source": [
    "def pattern15(n):\n",
    "    i = 1\n",
    "    c = 65\n",
    "    while(i<=n):\n",
    "        j=1\n",
    "        \n",
    "        while(j<=i):\n",
    "            print(chr(c),end = \" \")\n",
    "            j = j+1\n",
    "        print()\n",
    "        i=i+1\n",
    "        c+=1"
   ]
  },
  {
   "cell_type": "code",
   "execution_count": 74,
   "id": "0860ddd3",
   "metadata": {},
   "outputs": [
    {
     "name": "stdout",
     "output_type": "stream",
     "text": [
      "A \n",
      "B B \n",
      "C C C \n",
      "D D D D \n",
      "E E E E E \n"
     ]
    }
   ],
   "source": [
    "pattern15(5)"
   ]
  },
  {
   "cell_type": "code",
   "execution_count": 78,
   "id": "30574dc7",
   "metadata": {},
   "outputs": [],
   "source": [
    "def pattern16(n):\n",
    "    i = 1\n",
    "    \n",
    "    while(i<=n):\n",
    "        j=1\n",
    "        c = 64 +i\n",
    "        while(j<=i):\n",
    "            print(chr(c),end = \" \")\n",
    "            j = j+1\n",
    "            c = c+1\n",
    "        print()\n",
    "        i=i+1\n",
    "        "
   ]
  },
  {
   "cell_type": "code",
   "execution_count": 80,
   "id": "1c37d5bf",
   "metadata": {},
   "outputs": [
    {
     "name": "stdout",
     "output_type": "stream",
     "text": [
      "A \n",
      "B C \n",
      "C D E \n",
      "D E F G \n"
     ]
    }
   ],
   "source": [
    "pattern16(4)"
   ]
  },
  {
   "cell_type": "code",
   "execution_count": 86,
   "id": "6514f4f1",
   "metadata": {},
   "outputs": [],
   "source": [
    "def pattern17(n):\n",
    "    i = 1\n",
    "    \n",
    "    while(i<=n):\n",
    "        j=1\n",
    "        c = 65 +(n-i)\n",
    "        while(j<=i):\n",
    "            print(chr(c),end = \" \")\n",
    "            j = j+1\n",
    "            c = c+1\n",
    "        print()\n",
    "        i=i+1"
   ]
  },
  {
   "cell_type": "code",
   "execution_count": 88,
   "id": "4fb35029",
   "metadata": {},
   "outputs": [
    {
     "name": "stdout",
     "output_type": "stream",
     "text": [
      "F \n",
      "E F \n",
      "D E F \n",
      "C D E F \n",
      "B C D E F \n",
      "A B C D E F \n"
     ]
    }
   ],
   "source": [
    "pattern17(6)"
   ]
  },
  {
   "cell_type": "code",
   "execution_count": 89,
   "id": "56db45a1",
   "metadata": {},
   "outputs": [],
   "source": [
    "def pattern18(n):\n",
    "    i = 1\n",
    "    \n",
    "    while(i<=n):\n",
    "        \n",
    "        space = n-i\n",
    "        while(space):\n",
    "            print(\" \",end =\"\")\n",
    "            space-=1\n",
    "        \n",
    "        j=1\n",
    "        while(j<=i):\n",
    "            print(\"*\",end = \"\")\n",
    "            j = j+1\n",
    "        print()\n",
    "        i=i+1"
   ]
  },
  {
   "cell_type": "code",
   "execution_count": 90,
   "id": "423b30fb",
   "metadata": {},
   "outputs": [
    {
     "name": "stdout",
     "output_type": "stream",
     "text": [
      "    *\n",
      "   **\n",
      "  ***\n",
      " ****\n",
      "*****\n"
     ]
    }
   ],
   "source": [
    "pattern18(5)"
   ]
  },
  {
   "cell_type": "code",
   "execution_count": 101,
   "id": "d5902eaa",
   "metadata": {},
   "outputs": [],
   "source": [
    "def pattern19(n):\n",
    "    i = n\n",
    "    while(i>0):\n",
    "        j=1\n",
    "        while(j<=i):\n",
    "            print(\"*\",end = \"\")\n",
    "            j = j+1\n",
    "        print()\n",
    "        i=i-1"
   ]
  },
  {
   "cell_type": "code",
   "execution_count": 102,
   "id": "8d45ca99",
   "metadata": {},
   "outputs": [
    {
     "name": "stdout",
     "output_type": "stream",
     "text": [
      "*****\n",
      "****\n",
      "***\n",
      "**\n",
      "*\n"
     ]
    }
   ],
   "source": [
    "pattern19(5)"
   ]
  },
  {
   "cell_type": "code",
   "execution_count": 113,
   "id": "6cd82027",
   "metadata": {},
   "outputs": [],
   "source": [
    "def pattern20(n):\n",
    "    i = 1\n",
    "    \n",
    "    while(i<=n):\n",
    "        \n",
    "        space = i-1\n",
    "        while(space):\n",
    "            print(\" \",end =\"\")\n",
    "            space-=1\n",
    "        \n",
    "        j=n-i+1\n",
    "        while(j>0):\n",
    "            print(\"*\",end = \"\")\n",
    "            j = j-1\n",
    "        print()\n",
    "        i=i+1"
   ]
  },
  {
   "cell_type": "code",
   "execution_count": 114,
   "id": "096c72d7",
   "metadata": {},
   "outputs": [
    {
     "name": "stdout",
     "output_type": "stream",
     "text": [
      "*****\n",
      " ****\n",
      "  ***\n",
      "   **\n",
      "    *\n"
     ]
    }
   ],
   "source": [
    "pattern20(5)"
   ]
  },
  {
   "cell_type": "code",
   "execution_count": 133,
   "id": "24f8fcb0",
   "metadata": {},
   "outputs": [],
   "source": [
    "def pattern21(n):\n",
    "    i =1\n",
    "    while(i <= n ):\n",
    "        \n",
    "        space = n-i\n",
    "        while(space):\n",
    "            print(\" \",end = \"\")\n",
    "            space-=1\n",
    "            \n",
    "        j = 1\n",
    "        while(j<=i):\n",
    "            print(j,end = \"\")\n",
    "            j+=1\n",
    "            \n",
    "        k = i-1\n",
    "        while(k):\n",
    "            print(k,end = \"\")\n",
    "            k-=1\n",
    "        \n",
    "        print()\n",
    "        i+=1\n",
    "        "
   ]
  },
  {
   "cell_type": "code",
   "execution_count": 134,
   "id": "503699bf",
   "metadata": {},
   "outputs": [
    {
     "name": "stdout",
     "output_type": "stream",
     "text": [
      "   1\n",
      "  121\n",
      " 12321\n",
      "1234321\n"
     ]
    }
   ],
   "source": [
    "pattern21(4)"
   ]
  },
  {
   "cell_type": "code",
   "execution_count": 162,
   "id": "33ae001e",
   "metadata": {},
   "outputs": [],
   "source": [
    "def pattern22(n):\n",
    "    i =1\n",
    "    while i <= n:\n",
    "        j=1\n",
    "        while(j<(n-i+2)):\n",
    "            print(j,end = \" \")\n",
    "            j = j+1\n",
    "        \n",
    "        star = i-1\n",
    "        while(star):\n",
    "            print(\"* *\",end = \" \")\n",
    "            star-=1\n",
    "        \n",
    "        k = n-i+1    \n",
    "        while(k):\n",
    "            print(k,end = \" \")\n",
    "            k-=1\n",
    "       \n",
    "        print()\n",
    "        i+=1\n",
    "        "
   ]
  },
  {
   "cell_type": "code",
   "execution_count": 163,
   "id": "c4e83c4c",
   "metadata": {},
   "outputs": [
    {
     "name": "stdout",
     "output_type": "stream",
     "text": [
      "1 2 3 4 5 5 4 3 2 1 \n",
      "1 2 3 4 * * 4 3 2 1 \n",
      "1 2 3 * * * * 3 2 1 \n",
      "1 2 * * * * * * 2 1 \n",
      "1 * * * * * * * * 1 \n"
     ]
    }
   ],
   "source": [
    "pattern22(5)"
   ]
  },
  {
   "cell_type": "code",
   "execution_count": null,
   "id": "1726e2ac",
   "metadata": {},
   "outputs": [],
   "source": []
  }
 ],
 "metadata": {
  "kernelspec": {
   "display_name": "Python 3",
   "language": "python",
   "name": "python3"
  },
  "language_info": {
   "codemirror_mode": {
    "name": "ipython",
    "version": 3
   },
   "file_extension": ".py",
   "mimetype": "text/x-python",
   "name": "python",
   "nbconvert_exporter": "python",
   "pygments_lexer": "ipython3",
   "version": "3.8.8"
  }
 },
 "nbformat": 4,
 "nbformat_minor": 5
}
